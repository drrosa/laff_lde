{
 "metadata": {
  "name": ""
 },
 "nbformat": 3,
 "nbformat_minor": 0,
 "worksheets": [
  {
   "cells": [
    {
     "cell_type": "markdown",
     "metadata": {},
     "source": [
      "Python for Programmers\n",
      "==="
     ]
    },
    {
     "cell_type": "markdown",
     "metadata": {},
     "source": [
      "####What\n",
      "This is a short interactive tutorial written in the IPython notebook environment. It was designed for those who already know how to program and need a quick way to learn just enough to start reading and writing Python code and then continue on their own.\n",
      "\n",
      "####When\n",
      "This tutorial should take 15 to 30 minutes depending on how long you experiment with the code.\n",
      "\n",
      "####How\n",
      "There are a number of cells containing skeleton code as a means of displaying a feature of the language in a generic way.\n",
      "\n",
      "1. Examine each cell.\n",
      "2. Complete, modify, or overwrite the skeleton code.\n",
      "3. Execute your code by pressing *Shift-Enter* to see the result.\n",
      "\n",
      "Although it seems like the cells are independent from one another, you can actually refer back to anything you have defined previously."
     ]
    },
    {
     "cell_type": "markdown",
     "metadata": {},
     "source": [
      "#####Commenting"
     ]
    },
    {
     "cell_type": "code",
     "collapsed": false,
     "input": [
      "# The pound/number (#) sign is used for one line comments.\n",
      "\"\"\" Three double quotes are used for\n",
      "multi line comments. \"\"\""
     ],
     "language": "python",
     "metadata": {},
     "outputs": []
    },
    {
     "cell_type": "markdown",
     "metadata": {},
     "source": [
      "#####Printing Values    "
     ]
    },
    {
     "cell_type": "code",
     "collapsed": false,
     "input": [
      "print(value) # replace \"value\" with an actual value"
     ],
     "language": "python",
     "metadata": {},
     "outputs": []
    },
    {
     "cell_type": "code",
     "collapsed": false,
     "input": [
      "# The print function can take any number of arguments and two optional args.\n",
      "print(value_0, ..., value_n, sep=\"string that separates values\", end=\"string that gets appended\")"
     ],
     "language": "python",
     "metadata": {},
     "outputs": []
    },
    {
     "cell_type": "code",
     "collapsed": false,
     "input": [
      "# String formatting syntax\n",
      "print(\"%d %s\" % (an_int, \"a string\"))"
     ],
     "language": "python",
     "metadata": {},
     "outputs": []
    },
    {
     "cell_type": "code",
     "collapsed": false,
     "input": [
      "# Usually print() is not even needed, just input anything and execute it\n",
      "# This could be a number, a string, a variable or some other object\n",
      "\n",
      "3.1416"
     ],
     "language": "python",
     "metadata": {},
     "outputs": []
    },
    {
     "cell_type": "markdown",
     "metadata": {},
     "source": [
      "#####Functions/Methods\n",
      "* Python is an interpreted language, so function calls must go after function definitions."
     ]
    },
    {
     "cell_type": "markdown",
     "metadata": {},
     "source": [
      "**Defining**"
     ]
    },
    {
     "cell_type": "code",
     "collapsed": false,
     "input": [
      "# Notice that indentation determines scope,\n",
      "# and function names are written in lowercase and with underscores by convention\n",
      "\n",
      "def function_name(arg0, ..., arg_n, optional_arg=default_value):\n",
      "    ...\n",
      "    return value"
     ],
     "language": "python",
     "metadata": {},
     "outputs": []
    },
    {
     "cell_type": "markdown",
     "metadata": {},
     "source": [
      "**Calling**"
     ]
    },
    {
     "cell_type": "code",
     "collapsed": false,
     "input": [
      "function_name(val_0, ..., val_n) # optional_arg takes on default_value"
     ],
     "language": "python",
     "metadata": {},
     "outputs": []
    },
    {
     "cell_type": "code",
     "collapsed": false,
     "input": [
      "function_name(val_0, ..., val_n, val_n+1) # optional_arg takes on new value"
     ],
     "language": "python",
     "metadata": {},
     "outputs": []
    },
    {
     "cell_type": "markdown",
     "metadata": {},
     "source": [
      "#####Variables\n",
      "* Everything in Python is an object."
     ]
    },
    {
     "cell_type": "code",
     "collapsed": false,
     "input": [
      "x = value\n",
      "y = other_value\n",
      "z = None # None represents the absence of a value\n",
      "\n",
      "x, y = y, x # Swap values"
     ],
     "language": "python",
     "metadata": {},
     "outputs": []
    },
    {
     "cell_type": "code",
     "collapsed": false,
     "input": [
      "var_name = value # variables also use lowercase and underscores\n",
      "    \n",
      "def set_var():\n",
      "    global var_name # global only works when used within a function\n",
      "    var_name = other_value\n",
      "    \n",
      "f = function_name # functions can be assigned to variables"
     ],
     "language": "python",
     "metadata": {},
     "outputs": []
    },
    {
     "cell_type": "markdown",
     "metadata": {},
     "source": [
      "#####For Loops    \n",
      ">range() returns an object that generates the numbers in the range on demand.        "
     ]
    },
    {
     "cell_type": "code",
     "collapsed": false,
     "input": [
      "for i in range(n):\n",
      "    ..."
     ],
     "language": "python",
     "metadata": {},
     "outputs": []
    },
    {
     "cell_type": "code",
     "collapsed": false,
     "input": [
      "for i in range(start, stop): # bounds are left inclusive and right exclusive\n",
      "    ..."
     ],
     "language": "python",
     "metadata": {},
     "outputs": []
    },
    {
     "cell_type": "markdown",
     "metadata": {},
     "source": [
      "#####if-else Statements and Loop Control"
     ]
    },
    {
     "cell_type": "code",
     "collapsed": false,
     "input": [
      "for i in range(n):\n",
      "    if boolean_value:\n",
      "        ...\n",
      "        break #terminates loop\n",
      "    elif boolean_value:\n",
      "        ...\n",
      "        continue #skip the rest and start next iteration\n",
      "    else:\n",
      "        pass # do nothing"
     ],
     "language": "python",
     "metadata": {},
     "outputs": []
    },
    {
     "cell_type": "markdown",
     "metadata": {},
     "source": [
      "##### Data Structures\n",
      "A tuple, dictionary, or list can hold elements of different types."
     ]
    },
    {
     "cell_type": "markdown",
     "metadata": {},
     "source": [
      "**Tuple**"
     ]
    },
    {
     "cell_type": "code",
     "collapsed": false,
     "input": [
      "tupl = (element_0, ..., element_n) # tuples are immutable\n",
      "print(tupl[0])"
     ],
     "language": "python",
     "metadata": {},
     "outputs": []
    },
    {
     "cell_type": "code",
     "collapsed": false,
     "input": [
      "# A tuple can also be created by simply writing comma-separted values\n",
      "def function_name():\n",
      "    ...\n",
      "    return val_0, ..., val_n # so a function can return several values within a tuple"
     ],
     "language": "python",
     "metadata": {},
     "outputs": []
    },
    {
     "cell_type": "code",
     "collapsed": false,
     "input": [
      "# values within a tuple can be unpacked and assiged to variables\n",
      "a, b, c = function_name()"
     ],
     "language": "python",
     "metadata": {},
     "outputs": []
    },
    {
     "cell_type": "markdown",
     "metadata": {},
     "source": [
      "**Dictionary/Hash**"
     ]
    },
    {
     "cell_type": "code",
     "collapsed": false,
     "input": [
      "d = {key:value, ...}\n",
      "print(d[key])"
     ],
     "language": "python",
     "metadata": {},
     "outputs": []
    },
    {
     "cell_type": "code",
     "collapsed": false,
     "input": [
      "\"Value from key %(key)s ...\" % {\"key\":value, ...} #string substitution"
     ],
     "language": "python",
     "metadata": {},
     "outputs": []
    },
    {
     "cell_type": "markdown",
     "metadata": {},
     "source": [
      "**List/Array**"
     ]
    },
    {
     "cell_type": "code",
     "collapsed": false,
     "input": [
      "range(n) # returns a list of n integers starting from 0"
     ],
     "language": "python",
     "metadata": {},
     "outputs": []
    },
    {
     "cell_type": "code",
     "collapsed": false,
     "input": [
      "range(start, stop) # returns a range of integers as a list"
     ],
     "language": "python",
     "metadata": {},
     "outputs": []
    },
    {
     "cell_type": "code",
     "collapsed": false,
     "input": [
      "list_name = [element_0, ..., element_n]"
     ],
     "language": "python",
     "metadata": {},
     "outputs": []
    },
    {
     "cell_type": "code",
     "collapsed": false,
     "input": [
      "len(list_name)"
     ],
     "language": "python",
     "metadata": {},
     "outputs": []
    },
    {
     "cell_type": "code",
     "collapsed": false,
     "input": [
      "list_name[negative_int] # accesses elements counting from the end"
     ],
     "language": "python",
     "metadata": {},
     "outputs": []
    },
    {
     "cell_type": "code",
     "collapsed": false,
     "input": [
      "list_name[start:stop] # returns a slice of the same list"
     ],
     "language": "python",
     "metadata": {},
     "outputs": []
    },
    {
     "cell_type": "code",
     "collapsed": false,
     "input": [
      "list_name[::step] # start, stop, and step are optional."
     ],
     "language": "python",
     "metadata": {},
     "outputs": []
    },
    {
     "cell_type": "code",
     "collapsed": false,
     "input": [
      "del list_name[i] # deletes element at index i"
     ],
     "language": "python",
     "metadata": {},
     "outputs": []
    },
    {
     "cell_type": "code",
     "collapsed": false,
     "input": [
      "range(start, stop) # returns a range of integers as a list"
     ],
     "language": "python",
     "metadata": {},
     "outputs": []
    },
    {
     "cell_type": "markdown",
     "metadata": {},
     "source": [
      "#####Syntactic Sugar    "
     ]
    },
    {
     "cell_type": "code",
     "collapsed": false,
     "input": [
      "#Boolean operators\n",
      "&&, ||, ==\n",
      "#can be written as words\n",
      "and, or, is"
     ],
     "language": "python",
     "metadata": {},
     "outputs": []
    },
    {
     "cell_type": "code",
     "collapsed": false,
     "input": [
      "The number 0 evaluates to False\n",
      "None also evaluates to False\n",
      "The rest evaluates to True"
     ],
     "language": "python",
     "metadata": {},
     "outputs": []
    },
    {
     "cell_type": "code",
     "collapsed": false,
     "input": [
      "# This one line\n",
      "[x * y for x in list_a for y in list_b]\n",
      "\n",
      "# is equivalent to\n",
      "\"\"\"for x in list_a:\n",
      "    for y in list_b:\n",
      "        z += [x*y]\"\"\""
     ],
     "language": "python",
     "metadata": {},
     "outputs": []
    },
    {
     "cell_type": "code",
     "collapsed": false,
     "input": [
      "# Conditions can be chained\n",
      "print( [x for x in list if a < x < b] )"
     ],
     "language": "python",
     "metadata": {},
     "outputs": []
    },
    {
     "cell_type": "markdown",
     "metadata": {},
     "source": [
      "#####Self Help"
     ]
    },
    {
     "cell_type": "code",
     "collapsed": false,
     "input": [
      "help(obj)"
     ],
     "language": "python",
     "metadata": {},
     "outputs": []
    },
    {
     "cell_type": "code",
     "collapsed": false,
     "input": [
      "help(obj.attribute)"
     ],
     "language": "python",
     "metadata": {},
     "outputs": []
    },
    {
     "cell_type": "code",
     "collapsed": false,
     "input": [
      "# prints out all attributes of an object\n",
      "dir(obj)"
     ],
     "language": "python",
     "metadata": {},
     "outputs": []
    },
    {
     "cell_type": "code",
     "collapsed": false,
     "input": [
      "# prints out the docstring of an object\n",
      "obj.__doc__"
     ],
     "language": "python",
     "metadata": {},
     "outputs": []
    },
    {
     "cell_type": "markdown",
     "metadata": {},
     "source": [
      "#####Miscellaneous\n",
      ">String literals can be enclosed in matching single quotes (') or double quotes (\")."
     ]
    },
    {
     "cell_type": "code",
     "collapsed": false,
     "input": [
      "str = '''Triple double/single quotes actually create a string literal, so besides\n",
      "             a multiple line comment, it can also be a multiple line string.'''\n",
      "    \n",
      "\"\"\"\n",
      "An object\u2019s docstring is defined by putting a string literal\n",
      "as the first statement of the attribute\u2019s definition.\n",
      "\"\"\"\n",
      "\n",
      "# any() returns True if any item in the list satifies the condition.\n",
      "any(condition for i in list)\n",
      "\n",
      "# returns the count of how many items make the condition true\n",
      "sum(1 for i in list if condition)"
     ],
     "language": "python",
     "metadata": {},
     "outputs": []
    },
    {
     "cell_type": "markdown",
     "metadata": {},
     "source": [
      "#####Importing Modules    \n",
      ">A module is a file containing Python definitions and statements. The file name is the module name with the suffix *.py* appended."
     ]
    },
    {
     "cell_type": "code",
     "collapsed": false,
     "input": [
      "import module_name # also lowecase and underscores by convention"
     ],
     "language": "python",
     "metadata": {},
     "outputs": []
    },
    {
     "cell_type": "code",
     "collapsed": false,
     "input": [
      "from module_name import attribute_0, ..., attribute_n"
     ],
     "language": "python",
     "metadata": {},
     "outputs": []
    },
    {
     "cell_type": "code",
     "collapsed": false,
     "input": [
      "from module_name import * # star symbol means everything"
     ],
     "language": "python",
     "metadata": {},
     "outputs": []
    },
    {
     "cell_type": "markdown",
     "metadata": {},
     "source": [
      "#####Class Definitions"
     ]
    },
    {
     "cell_type": "code",
     "collapsed": false,
     "input": [
      "# class names are written in UpperCamelCase by convention\n",
      "class ClassName:\n",
      "    class_var =  value\n",
      "        \n",
      "    def __init__(self, arg_0, ..., arg_n): # invoked when class is instantiated\n",
      "        self.k = arg_0\n",
      "        ...              #instance variables\n",
      "        self.n = arg_n\n",
      "        \n",
      "    def set_instance_var(self, new_value): #instance methods require self as first arg\n",
      "        self.k = new_value\n",
      "        \n",
      "    def set_class_var(self, new_value):\n",
      "        self.class_var = new_value"
     ],
     "language": "python",
     "metadata": {},
     "outputs": []
    },
    {
     "cell_type": "code",
     "collapsed": false,
     "input": [
      "class MultipleInheritance(ParentClass_0, ..., ParentClass_n)\n",
      "    ..."
     ],
     "language": "python",
     "metadata": {},
     "outputs": []
    },
    {
     "cell_type": "markdown",
     "metadata": {},
     "source": [
      "#####Class Instantiation"
     ]
    },
    {
     "cell_type": "code",
     "collapsed": false,
     "input": [
      "instance = ClassName(val_0, ..., val_n)\n",
      "other_instance = ClassName(val_0, ..., val_n)"
     ],
     "language": "python",
     "metadata": {},
     "outputs": []
    },
    {
     "cell_type": "code",
     "collapsed": false,
     "input": [
      "instance.k = new_value        \n",
      "instance.set_instance_var(new_value) # self is passed automatically"
     ],
     "language": "python",
     "metadata": {},
     "outputs": []
    },
    {
     "cell_type": "code",
     "collapsed": false,
     "input": [
      "ClassName.class_var = new_value\n",
      "# sets the value of this class variable\n",
      "# and all class instances see the new value\n",
      "print(instance.class_var, other_instance.class_var)\n",
      "\n",
      "class_instance.set_class_var(new_value)\n",
      "# the class variable for this instance is now a new different object\n",
      "print(instance.class_var, other_instance.class_var)\n",
      "\n",
      "ClassName.class_var = new_value\n",
      "# this time only the other instance sees the new value\n",
      "# a new instance would also see the new_value\n",
      "print(instance.class_var, other_instance.class_var)"
     ],
     "language": "python",
     "metadata": {},
     "outputs": []
    },
    {
     "cell_type": "code",
     "collapsed": false,
     "input": [
      "class_instance.new_attribute = val # adds a new attribute to this class instance"
     ],
     "language": "python",
     "metadata": {},
     "outputs": []
    },
    {
     "cell_type": "markdown",
     "metadata": {},
     "source": [
      "#####Error Handling"
     ]
    },
    {
     "cell_type": "code",
     "collapsed": false,
     "input": [
      "def function_name():\n",
      "    try:         \n",
      "        ...\n",
      "    except Exception as e: #catch exception\n",
      "        print(e)\n",
      "    else:         \n",
      "        ... # Exception didn't occur\n",
      "    finally:\n",
      "        ... # This code is always executed whether or not there was an exception"
     ],
     "language": "python",
     "metadata": {},
     "outputs": []
    },
    {
     "cell_type": "markdown",
     "metadata": {},
     "source": [
      "#####File IO"
     ]
    },
    {
     "cell_type": "code",
     "collapsed": false,
     "input": [
      "# r removes the need to escape the slahes in the file path\n",
      "# w opens file for writing only\n",
      "\n",
      "file_name = open(r\"./file_name\", \"w\") # creates a file in the current directory\n",
      "file_name.write(\"Some String\")\n",
      "file_name.close()"
     ],
     "language": "python",
     "metadata": {},
     "outputs": []
    },
    {
     "cell_type": "code",
     "collapsed": false,
     "input": [
      "# no argument means open read only\n",
      "\n",
      "file_name = open(r\"./file_name\")\n",
      "s = file_name.read()\n",
      "file_name.close()\n",
      "\n",
      "print(s)"
     ],
     "language": "python",
     "metadata": {},
     "outputs": []
    },
    {
     "cell_type": "markdown",
     "metadata": {},
     "source": [
      "<style>\n",
      "    @font-face {\n",
      "        font-family: \"Computer Modern\";\n",
      "        src: url('http://mirrors.ctan.org/fonts/cm-unicode/fonts/otf/cmunss.otf');\n",
      "    }\n",
      "    div.cell{\n",
      "        width:800px;\n",
      "        margin-left:16% !important;\n",
      "        margin-right:auto;\n",
      "    }\n",
      "    h1 {\n",
      "        font-family: Helvetica, serif;\n",
      "    }\n",
      "    h4{\n",
      "        margin-top:12px;\n",
      "        margin-bottom: 3px;\n",
      "       }\n",
      "    div.text_cell_render{\n",
      "        font-family: Computer Modern, \"Helvetica Neue\", Arial, Helvetica, Geneva, sans-serif;\n",
      "        line-height: 145%;\n",
      "        font-size: 120%;\n",
      "        width:800px;\n",
      "        margin-left:auto;\n",
      "        margin-right:auto;\n",
      "    }\n",
      "    .CodeMirror{\n",
      "            font-family: \"Source Code Pro\", source-code-pro,Consolas, monospace;\n",
      "    }\n",
      "    .prompt{\n",
      "        display: None;\n",
      "    }\n",
      "    .text_cell_render h5 {\n",
      "        font-weight: 300;\n",
      "        font-size: 16pt;\n",
      "        color: #CF5300;\n",
      "        font-style: italic;\n",
      "        margin-bottom: .5em;\n",
      "        margin-top: 0.5em;\n",
      "        display: block;\n",
      "    }\n",
      "    \n",
      "    .warning{\n",
      "        color: rgb( 240, 20, 20 )\n",
      "        }  \n",
      "</style>\n",
      "<script>\n",
      "    MathJax.Hub.Config({\n",
      "                        TeX: {\n",
      "                           extensions: [\"AMSmath.js\"]\n",
      "                           },\n",
      "                tex2jax: {\n",
      "                    inlineMath: [ ['$','$'], [\"\\\\(\",\"\\\\)\"] ],\n",
      "                    displayMath: [ ['$$','$$'], [\"\\\\[\",\"\\\\]\"] ]\n",
      "                },\n",
      "                displayAlign: 'center', // Change this to 'center' to center equations.\n",
      "                \"HTML-CSS\": {\n",
      "                    styles: {'.MathJax_Display': {\"margin\": 4}}\n",
      "                }\n",
      "        });\n",
      "</script>"
     ]
    }
   ],
   "metadata": {}
  }
 ]
}